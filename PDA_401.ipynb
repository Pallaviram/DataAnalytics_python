{
 "cells": [
  {
   "cell_type": "code",
   "execution_count": 1,
   "id": "59abd86a-67fb-4998-8f28-aad9903f7d3b",
   "metadata": {},
   "outputs": [
    {
     "name": "stdout",
     "output_type": "stream",
     "text": [
      "180.8\n"
     ]
    }
   ],
   "source": [
    "a=90\n",
    "b=90.8\n",
    "print(a+b)"
   ]
  },
  {
   "cell_type": "code",
   "execution_count": 3,
   "id": "f400b39d-5f7d-430f-b8c4-fff5d5c14a25",
   "metadata": {},
   "outputs": [],
   "source": [
    "def addition(a,b):\n",
    "    return (a+b)\n",
    "    "
   ]
  },
  {
   "cell_type": "code",
   "execution_count": 5,
   "id": "57ed3fa6-c675-4323-8367-11ec99d8c5d1",
   "metadata": {},
   "outputs": [
    {
     "data": {
      "text/plain": [
       "45"
      ]
     },
     "execution_count": 5,
     "metadata": {},
     "output_type": "execute_result"
    }
   ],
   "source": [
    "addition(20,25)"
   ]
  },
  {
   "cell_type": "code",
   "execution_count": 17,
   "id": "c1c9dc28-1b13-49b9-a896-f409dab646a9",
   "metadata": {},
   "outputs": [],
   "source": [
    "def taxcal(s,t):\n",
    "    tax=((t/100)*s)\n",
    "    return tax"
   ]
  },
  {
   "cell_type": "code",
   "execution_count": 23,
   "id": "521f476b-101f-4e0a-ad44-b5ed8e046ceb",
   "metadata": {},
   "outputs": [
    {
     "data": {
      "text/plain": [
       "5000.0"
      ]
     },
     "execution_count": 23,
     "metadata": {},
     "output_type": "execute_result"
    }
   ],
   "source": [
    "taxcal(50000, 10)\n"
   ]
  },
  {
   "cell_type": "code",
   "execution_count": 37,
   "id": "75518c85-3b77-4abb-b16b-1c3b5f451970",
   "metadata": {},
   "outputs": [],
   "source": [
    "def salary(S):\n",
    "    if S>0 and S<10000:\n",
    "        return 0.05*S \n",
    "    elif S>=10000 and S<50000:\n",
    "        return 0.1*S\n",
    "    elif S>=50000 and S<200000:\n",
    "         return 0.15*S\n",
    "    elif S>=200000:\n",
    "        return 0.20*S\n",
    "    else:\n",
    "        print(\"Invalid\")\n"
   ]
  },
  {
   "cell_type": "code",
   "execution_count": 39,
   "id": "5fd94741-dc49-4575-9ff0-b1c1710d0e32",
   "metadata": {},
   "outputs": [
    {
     "name": "stdout",
     "output_type": "stream",
     "text": [
      "Invalid\n"
     ]
    }
   ],
   "source": [
    "salary(60000)"
   ]
  },
  {
   "cell_type": "code",
   "execution_count": 42,
   "id": "ca694813-32b7-42ad-8d95-64c8ea932db8",
   "metadata": {},
   "outputs": [
    {
     "data": {
      "text/plain": [
       "0.0"
      ]
     },
     "execution_count": 42,
     "metadata": {},
     "output_type": "execute_result"
    }
   ],
   "source": [
    "salary(0)"
   ]
  },
  {
   "cell_type": "markdown",
   "id": "000df677-c180-4281-b48c-063c7f694647",
   "metadata": {},
   "source": [
    "loops\n"
   ]
  },
  {
   "cell_type": "code",
   "execution_count": 49,
   "id": "8572cf5c-5edd-41cd-9d13-c93ceafea0c3",
   "metadata": {},
   "outputs": [
    {
     "name": "stdout",
     "output_type": "stream",
     "text": [
      "0.05795847750865052\n",
      "0.02324380165289256\n",
      "0.009579341940857976\n",
      "0.06427221172022685\n"
     ]
    }
   ],
   "source": [
    "w=[67,45,23,34]\n",
    "h=[34,44,49,23]\n",
    "for i,j in zip(w,h):\n",
    "    print(i/(j*j))"
   ]
  },
  {
   "cell_type": "code",
   "execution_count": 53,
   "id": "a9a463be-3416-4fc7-95ca-d4fc02da82df",
   "metadata": {},
   "outputs": [
    {
     "name": "stdout",
     "output_type": "stream",
     "text": [
      "0.05795847750865052\n",
      "0.02324380165289256\n",
      "0.009579341940857976\n",
      "0.06427221172022685\n"
     ]
    }
   ],
   "source": [
    "w=[67,45,23,34]\n",
    "h=[34,44,49,23]\n",
    "for i in range(len(w)):\n",
    "    print(w[i] /(h[i]*h[i]))"
   ]
  },
  {
   "cell_type": "markdown",
   "id": "10142baa-a195-4fdc-8685-dea572532b2c",
   "metadata": {},
   "source": [
    "# Numpy"
   ]
  },
  {
   "cell_type": "code",
   "execution_count": 60,
   "id": "7ae53887-0f2a-4370-b41e-049bb516807d",
   "metadata": {},
   "outputs": [
    {
     "name": "stdout",
     "output_type": "stream",
     "text": [
      "[168 101  67 101]\n"
     ]
    }
   ],
   "source": [
    "import numpy as np\n",
    "ar1 = np.array([90,56,12,34])\n",
    "ar2= np.array([78,45,55,67])\n",
    "print(ar1+ar2)\n"
   ]
  },
  {
   "cell_type": "code",
   "execution_count": 64,
   "id": "e9c0394b-1d14-4670-81b1-255d30179a45",
   "metadata": {},
   "outputs": [
    {
     "name": "stdout",
     "output_type": "stream",
     "text": [
      "[[1. 1. 1.]\n",
      " [1. 1. 1.]]\n"
     ]
    }
   ],
   "source": [
    "arr1=np.ones((2,3))\n",
    "print(arr1)"
   ]
  },
  {
   "cell_type": "code",
   "execution_count": 68,
   "id": "2524001a-8dcb-4105-be52-f79dfa71877d",
   "metadata": {},
   "outputs": [
    {
     "name": "stdout",
     "output_type": "stream",
     "text": [
      "[[1. 0. 0.]\n",
      " [0. 1. 0.]\n",
      " [0. 0. 1.]]\n"
     ]
    }
   ],
   "source": [
    "arr1=np.eye(3)\n",
    "print(arr1)"
   ]
  },
  {
   "cell_type": "code",
   "execution_count": 70,
   "id": "731314c2-c7bc-42c2-9c48-3e47e08f78ed",
   "metadata": {},
   "outputs": [
    {
     "name": "stdout",
     "output_type": "stream",
     "text": [
      "[[0. 0. 0.]\n",
      " [0. 0. 0.]]\n"
     ]
    }
   ],
   "source": [
    "arr1=np.zeros((2,3))\n",
    "print(arr1)"
   ]
  },
  {
   "cell_type": "code",
   "execution_count": 76,
   "id": "7f286004-7d8e-486b-9ac8-321c2760a0d8",
   "metadata": {},
   "outputs": [
    {
     "name": "stdout",
     "output_type": "stream",
     "text": [
      "[[3 4 5]\n",
      " [9 5 0]]\n",
      "2\n"
     ]
    }
   ],
   "source": [
    "arr1=np.array([[3,4,5],[9,5,0]])\n",
    "print(arr1)\n",
    "print(np.ndim(arr1))"
   ]
  },
  {
   "cell_type": "code",
   "execution_count": 78,
   "id": "9fc2ccaf-f2d7-4223-a4c1-1daf38cbf4ce",
   "metadata": {},
   "outputs": [
    {
     "name": "stdout",
     "output_type": "stream",
     "text": [
      "[[3 4 5]\n",
      " [9 5 0]]\n",
      "(2, 3)\n"
     ]
    }
   ],
   "source": [
    "arr1=np.array([[3,4,5],[9,5,0]])\n",
    "print(arr1)\n",
    "print(np.shape(arr1))"
   ]
  },
  {
   "cell_type": "code",
   "execution_count": 86,
   "id": "74a386c4-15f6-4bcc-86c9-2118a392454a",
   "metadata": {},
   "outputs": [],
   "source": [
    "arr1=np.array([2,3,4,5,6,7,8,9])\n",
    "arr1=arr1.reshape(4,2)"
   ]
  },
  {
   "cell_type": "code",
   "execution_count": 88,
   "id": "fce6ca54-7707-4a76-a4c4-370996e56fcd",
   "metadata": {},
   "outputs": [
    {
     "data": {
      "text/plain": [
       "array([[2, 3],\n",
       "       [4, 5],\n",
       "       [6, 7],\n",
       "       [8, 9]])"
      ]
     },
     "execution_count": 88,
     "metadata": {},
     "output_type": "execute_result"
    }
   ],
   "source": [
    "arr1"
   ]
  },
  {
   "cell_type": "code",
   "execution_count": 90,
   "id": "78005f71-5e6a-48be-ad46-d7d04117c37a",
   "metadata": {},
   "outputs": [],
   "source": [
    "arr1.resize(4,2)"
   ]
  },
  {
   "cell_type": "code",
   "execution_count": 92,
   "id": "a2f53f21-a6cc-48d8-a2d9-df1801802da5",
   "metadata": {},
   "outputs": [
    {
     "data": {
      "text/plain": [
       "array([[2, 3],\n",
       "       [4, 5],\n",
       "       [6, 7],\n",
       "       [8, 9]])"
      ]
     },
     "execution_count": 92,
     "metadata": {},
     "output_type": "execute_result"
    }
   ],
   "source": [
    "arr1\n"
   ]
  },
  {
   "cell_type": "code",
   "execution_count": 96,
   "id": "5054bd47-dc3c-4026-87bf-e3a5a3f4666c",
   "metadata": {},
   "outputs": [
    {
     "name": "stdout",
     "output_type": "stream",
     "text": [
      "[  7  14  21  28  35  42  49  56  63  70  77  84  91  98 105 112 119 126\n",
      " 133 140 147 154 161 168 175 182 189 196 203 210 217 224 231 238 245 252\n",
      " 259 266 273 280 287 294 301 308 315 322 329 336 343 350 357 364 371 378\n",
      " 385 392 399 406 413 420 427 434 441 448 455 462 469 476 483 490 497 504\n",
      " 511 518 525 532 539 546 553 560 567 574 581 588 595 602 609 616 623 630\n",
      " 637 644 651 658 665 672 679 686 693 700]\n",
      "<class 'numpy.ndarray'>\n"
     ]
    }
   ],
   "source": [
    "arr7=np.arange(7,701,7)\n",
    "print(arr7)\n",
    "print(type(arr7))"
   ]
  },
  {
   "cell_type": "code",
   "execution_count": 102,
   "id": "a4834663-ffdb-4155-b192-d54a0b58d878",
   "metadata": {},
   "outputs": [
    {
     "name": "stdout",
     "output_type": "stream",
     "text": [
      "[2.  3.2 4.4 5.6 6.8 8. ]\n"
     ]
    }
   ],
   "source": [
    "arr9=np.linspace(2,8,6) #it generates evenly spaced values between 2 and 8\n",
    "print(arr9)"
   ]
  },
  {
   "cell_type": "code",
   "execution_count": 104,
   "id": "90950085-ae75-414b-870a-14c8e4cb307e",
   "metadata": {},
   "outputs": [
    {
     "name": "stdout",
     "output_type": "stream",
     "text": [
      "[[[1 2 3]\n",
      "  [6 7 8]]\n",
      "\n",
      " [[4 5 2]\n",
      "  [3 6 0]]]\n",
      "(2, 2, 3)\n",
      "3\n"
     ]
    }
   ],
   "source": [
    "arr10 = np.array([[[1,2,3],[6,7,8]],[[4,5,2],[3,6,0]]])\n",
    "print(arr10)\n",
    "print(np.shape(arr10))\n",
    "print(np.ndim(arr10))"
   ]
  },
  {
   "cell_type": "code",
   "execution_count": 21,
   "id": "53a7da79-ccef-4934-b370-b15c87a288c6",
   "metadata": {},
   "outputs": [
    {
     "name": "stdout",
     "output_type": "stream",
     "text": [
      "matrix 1\n",
      ": [[9 4]\n",
      " [6 7]]\n",
      "matrix 2\n",
      ": [[1 2]\n",
      " [3 4]]\n"
     ]
    }
   ],
   "source": [
    "import numpy as np\n",
    "mat1=np.array([9,4,6,7]).reshape(2,2)\n",
    "mat2=np.array([1,2,3,4]).reshape(2,2)\n",
    "print(\"matrix 1\\n:\",mat1)\n",
    "print(\"matrix 2\\n:\",mat2)"
   ]
  },
  {
   "cell_type": "code",
   "execution_count": 6,
   "id": "0a5f5659-0e63-45c8-98dc-b10f10d89890",
   "metadata": {},
   "outputs": [
    {
     "name": "stdout",
     "output_type": "stream",
     "text": [
      "[[21 34]\n",
      " [27 40]]\n"
     ]
    }
   ],
   "source": [
    "print(mat1.dot(mat2))"
   ]
  },
  {
   "cell_type": "code",
   "execution_count": 14,
   "id": "da887eef-cd82-426a-9813-b75d0b6acc51",
   "metadata": {},
   "outputs": [
    {
     "name": "stdout",
     "output_type": "stream",
     "text": [
      "[[21 34]\n",
      " [27 40]]\n"
     ]
    }
   ],
   "source": [
    "print(mat1@mat2)"
   ]
  },
  {
   "cell_type": "code",
   "execution_count": 16,
   "id": "88f3a6c9-8b10-4168-b818-1cf3212e06a6",
   "metadata": {},
   "outputs": [
    {
     "name": "stdout",
     "output_type": "stream",
     "text": [
      "[[ 0.17948718 -0.1025641 ]\n",
      " [-0.15384615  0.23076923]]\n"
     ]
    }
   ],
   "source": [
    "print(np.linalg.inv(mat1))"
   ]
  },
  {
   "cell_type": "markdown",
   "id": "6ba916bd-b23c-468b-83ea-3d72dd861229",
   "metadata": {},
   "source": [
    "Statistics\n",
    "\n"
   ]
  },
  {
   "cell_type": "code",
   "execution_count": 19,
   "id": "71e67996-4dc8-4632-a8d9-994a90f058cb",
   "metadata": {},
   "outputs": [
    {
     "name": "stdout",
     "output_type": "stream",
     "text": [
      "38.333333333333336\n"
     ]
    }
   ],
   "source": [
    "arr11=np.array([90,45,34,26,23,12])\n",
    "print(np.mean(arr11))"
   ]
  },
  {
   "cell_type": "code",
   "execution_count": 23,
   "id": "e6fdd56a-564c-47ae-bbe6-2a6d0b5872ea",
   "metadata": {},
   "outputs": [
    {
     "name": "stdout",
     "output_type": "stream",
     "text": [
      "30.0\n"
     ]
    }
   ],
   "source": [
    "arr11=np.array([90,45,34,26,23,12])\n",
    "print(np.median(arr11))"
   ]
  },
  {
   "cell_type": "code",
   "execution_count": 25,
   "id": "dd9c7db7-75f2-4815-9d42-58e79c9699d2",
   "metadata": {},
   "outputs": [
    {
     "name": "stdout",
     "output_type": "stream",
     "text": [
      "25.210227201585386\n"
     ]
    }
   ],
   "source": [
    "print(np.std(arr11))"
   ]
  },
  {
   "cell_type": "code",
   "execution_count": 27,
   "id": "6d7571b2-7b44-470c-a7b5-2865388a8494",
   "metadata": {},
   "outputs": [
    {
     "name": "stdout",
     "output_type": "stream",
     "text": [
      "635.5555555555557\n"
     ]
    }
   ],
   "source": [
    "print(np.var(arr11))"
   ]
  },
  {
   "cell_type": "markdown",
   "id": "22e09ebe-695b-4334-8b96-d8dabdb13efc",
   "metadata": {},
   "source": [
    "Trignomentry\n"
   ]
  },
  {
   "cell_type": "code",
   "execution_count": 30,
   "id": "102a9950-42f9-4ea1-9c14-1cdb95320279",
   "metadata": {},
   "outputs": [
    {
     "name": "stdout",
     "output_type": "stream",
     "text": [
      "3.141592653589793\n"
     ]
    }
   ],
   "source": [
    "print(np.pi)"
   ]
  },
  {
   "cell_type": "code",
   "execution_count": 32,
   "id": "408e46f8-dcee-4fd6-9d4c-5cc897e7bc59",
   "metadata": {},
   "outputs": [
    {
     "name": "stdout",
     "output_type": "stream",
     "text": [
      "0.8939966636005579\n",
      "-0.9880316240928618\n",
      "0.8509035245341184\n"
     ]
    }
   ],
   "source": [
    "red=[90,30,45]\n",
    "for i in red:\n",
    "    print(np.sin(i))"
   ]
  },
  {
   "cell_type": "code",
   "execution_count": 34,
   "id": "beb67053-853a-4c66-a452-ff47b528e0b6",
   "metadata": {},
   "outputs": [
    {
     "name": "stdout",
     "output_type": "stream",
     "text": [
      "-0.4480736161291701\n",
      "0.15425144988758405\n",
      "0.5253219888177297\n"
     ]
    }
   ],
   "source": [
    "red=[90,30,45]\n",
    "for i in red:\n",
    "    print(np.cos(i))"
   ]
  },
  {
   "cell_type": "code",
   "execution_count": 36,
   "id": "7a0d4616-1952-4765-abb5-b9b32450ce78",
   "metadata": {},
   "outputs": [
    {
     "name": "stdout",
     "output_type": "stream",
     "text": [
      "-1.995200412208242\n",
      "-6.405331196646276\n",
      "1.6197751905438615\n"
     ]
    }
   ],
   "source": [
    "red=[90,30,45]\n",
    "for i in red:\n",
    "    print(np.tan(i))"
   ]
  },
  {
   "cell_type": "code",
   "execution_count": 44,
   "id": "ed7114a3-3595-4f36-8ef7-9fbe233ff66f",
   "metadata": {},
   "outputs": [
    {
     "name": "stdout",
     "output_type": "stream",
     "text": [
      "0.7071067811865476\n",
      "1.0\n",
      "0.8660254037844386\n"
     ]
    }
   ],
   "source": [
    "import numpy as np\n",
    "avg=[np.pi/4,np.pi/2,np.pi/3]\n",
    "for i in avg:\n",
    "    print(np.sin(i))"
   ]
  },
  {
   "cell_type": "code",
   "execution_count": 46,
   "id": "165baf95-2402-4176-8eaf-c8c0c75885f2",
   "metadata": {},
   "outputs": [
    {
     "name": "stdout",
     "output_type": "stream",
     "text": [
      "10.0\n"
     ]
    }
   ],
   "source": [
    "print(np.hypot(6,8))"
   ]
  },
  {
   "cell_type": "markdown",
   "id": "e472cf78-f797-442a-b495-6900bb507b0e",
   "metadata": {},
   "source": [
    "Arthamatic operations"
   ]
  },
  {
   "cell_type": "code",
   "execution_count": 53,
   "id": "e8fc595e-6214-4f68-99cb-0483e381717b",
   "metadata": {},
   "outputs": [
    {
     "name": "stdout",
     "output_type": "stream",
     "text": [
      "33\n"
     ]
    }
   ],
   "source": [
    "a=np.array([8,9,1])\n",
    "b=np.array([2,5,8])\n",
    "print(np.sum((a,b)))"
   ]
  },
  {
   "cell_type": "code",
   "execution_count": 57,
   "id": "b9dabab0-a46d-415a-8aa4-703213d412ca",
   "metadata": {},
   "outputs": [
    {
     "name": "stdout",
     "output_type": "stream",
     "text": [
      "[[ 1  2  3]\n",
      " [ 7  9  6]\n",
      " [16 10 12]]\n"
     ]
    }
   ],
   "source": [
    "c=np.array([[1,2,3],[6,7,3],[9,1,6]])\n",
    "print(np.cumsum(c,axis=0)) #colum vise sum"
   ]
  },
  {
   "cell_type": "code",
   "execution_count": 59,
   "id": "c181d92b-e543-424d-a6aa-b737fa278bb1",
   "metadata": {},
   "outputs": [
    {
     "name": "stdout",
     "output_type": "stream",
     "text": [
      "[[ 1  3  6]\n",
      " [ 6 13 16]\n",
      " [ 9 10 16]]\n"
     ]
    }
   ],
   "source": [
    "c=np.array([[1,2,3],[6,7,3],[9,1,6]])\n",
    "print(np.cumsum(c,axis=1)) #row vise sum"
   ]
  },
  {
   "cell_type": "code",
   "execution_count": 63,
   "id": "e33fe9dd-cd96-4706-8591-293612cbbe69",
   "metadata": {},
   "outputs": [
    {
     "name": "stdout",
     "output_type": "stream",
     "text": [
      "[    1     2     6    36   252   756  6804  6804 40824]\n"
     ]
    }
   ],
   "source": [
    "print(np.cumprod(c))"
   ]
  },
  {
   "cell_type": "code",
   "execution_count": 65,
   "id": "69aced2c-9f69-4ba5-9d4e-4a8a8ae3e4ed",
   "metadata": {},
   "outputs": [
    {
     "name": "stdout",
     "output_type": "stream",
     "text": [
      "[[ 1  2  3]\n",
      " [ 6 14  9]\n",
      " [54 14 54]]\n"
     ]
    }
   ],
   "source": [
    "print(np.cumprod(c,axis=0))"
   ]
  },
  {
   "cell_type": "code",
   "execution_count": 67,
   "id": "f31edc26-46d5-4359-915a-56fcdc77f5e5",
   "metadata": {},
   "outputs": [
    {
     "name": "stdout",
     "output_type": "stream",
     "text": [
      "[[  1   2   6]\n",
      " [  6  42 126]\n",
      " [  9   9  54]]\n"
     ]
    }
   ],
   "source": [
    "print(np.cumprod(c,axis=1))"
   ]
  },
  {
   "cell_type": "code",
   "execution_count": 71,
   "id": "e48396ad-7eb3-411d-91b3-57ff8459f0cf",
   "metadata": {},
   "outputs": [
    {
     "name": "stdout",
     "output_type": "stream",
     "text": [
      "[0 1 7 2]\n"
     ]
    }
   ],
   "source": [
    "s1=np.array([90,23,40,12])\n",
    "s2=np.array([10,2,11,5])\n",
    "print(np.mod(s1,s2))\n"
   ]
  },
  {
   "cell_type": "code",
   "execution_count": 73,
   "id": "69c8a837-97a4-4f43-889f-51988d686eca",
   "metadata": {},
   "outputs": [
    {
     "name": "stdout",
     "output_type": "stream",
     "text": [
      "(array([ 9, 11,  3,  2]), array([0, 1, 7, 2]))\n"
     ]
    }
   ],
   "source": [
    "print(np.divmod(s1,s2))"
   ]
  },
  {
   "cell_type": "markdown",
   "id": "b6740c37-90db-43cf-9106-101787ae87f5",
   "metadata": {},
   "source": [
    "Universal functions"
   ]
  },
  {
   "cell_type": "code",
   "execution_count": 82,
   "id": "5c38fe1d-b663-42b8-861f-3f7abc54261b",
   "metadata": {},
   "outputs": [
    {
     "name": "stdout",
     "output_type": "stream",
     "text": [
      "kill\n"
     ]
    }
   ],
   "source": [
    "A=np.array([56,78,12,32,111,109,\"kill\"])\n",
    "print(max(A))"
   ]
  },
  {
   "cell_type": "markdown",
   "id": "cb360d7e-9461-41bd-9012-c11334af6009",
   "metadata": {},
   "source": [
    "Sorting"
   ]
  },
  {
   "cell_type": "code",
   "execution_count": 86,
   "id": "0d61cdd4-1691-4151-a725-f563c8983ce1",
   "metadata": {},
   "outputs": [
    {
     "name": "stdout",
     "output_type": "stream",
     "text": [
      "[ 1 12 45 89 90 98]\n"
     ]
    }
   ],
   "source": [
    "B=np.array([90,12,45,1,89,98])\n",
    "B.sort()\n",
    "print(B)"
   ]
  },
  {
   "cell_type": "code",
   "execution_count": 90,
   "id": "7257b49c-7944-4424-831e-90cafe076638",
   "metadata": {},
   "outputs": [
    {
     "name": "stdout",
     "output_type": "stream",
     "text": [
      "[90 12 45  1 89 98]\n",
      "[1, 12, 45, 89, 90, 98]\n"
     ]
    }
   ],
   "source": [
    "c=np.array([90,12,45,1,89,98])\n",
    "D=sorted(c)\n",
    "print(c)\n",
    "print(D)"
   ]
  },
  {
   "cell_type": "markdown",
   "id": "fb1e1077-3726-4976-af91-60798c100bdf",
   "metadata": {},
   "source": [
    "Ronunding"
   ]
  },
  {
   "cell_type": "code",
   "execution_count": 104,
   "id": "7b0aa29c-d1cb-45e4-a0fb-64df81afdf9d",
   "metadata": {},
   "outputs": [
    {
     "name": "stdout",
     "output_type": "stream",
     "text": [
      "[10. -7.]\n"
     ]
    }
   ],
   "source": [
    "s2=np.array([9.1,-7.8])\n",
    "print(np.ceil(s2))"
   ]
  },
  {
   "cell_type": "code",
   "execution_count": 106,
   "id": "5d73bac9-2f7b-4697-bc9d-8bf11176b010",
   "metadata": {},
   "outputs": [
    {
     "name": "stdout",
     "output_type": "stream",
     "text": [
      "[ 9. -8.]\n"
     ]
    }
   ],
   "source": [
    "print(np.floor(s2))"
   ]
  },
  {
   "cell_type": "markdown",
   "id": "7f7124f4-58a8-4831-98fd-86e917f87d20",
   "metadata": {},
   "source": [
    "RANDOM MODULE"
   ]
  },
  {
   "cell_type": "code",
   "execution_count": 122,
   "id": "61824988-4e2a-4b40-bac1-257d331003fb",
   "metadata": {},
   "outputs": [],
   "source": [
    "import numpy.random as rd "
   ]
  },
  {
   "cell_type": "code",
   "execution_count": 124,
   "id": "37e2715e-e600-406d-8d5e-0d232900d4ee",
   "metadata": {},
   "outputs": [
    {
     "name": "stdout",
     "output_type": "stream",
     "text": [
      "[0.33107757 0.10963255]\n"
     ]
    }
   ],
   "source": [
    "ran1=rd.rand(2)\n",
    "print(ran1)"
   ]
  },
  {
   "cell_type": "code",
   "execution_count": 139,
   "id": "ebcc716f-3e20-4d36-83fc-7a61daa7e541",
   "metadata": {},
   "outputs": [
    {
     "name": "stdout",
     "output_type": "stream",
     "text": [
      "0\n"
     ]
    }
   ],
   "source": [
    "ran2=rd.randint(5)\n",
    "print(ran2)"
   ]
  },
  {
   "cell_type": "code",
   "execution_count": 141,
   "id": "d33af2d9-3309-4f2b-af7c-2aab967e0af1",
   "metadata": {},
   "outputs": [
    {
     "name": "stdout",
     "output_type": "stream",
     "text": [
      "[1 3 3 0 4 3]\n"
     ]
    }
   ],
   "source": [
    "ran2=rd.randint(5,size=(6))\n",
    "print(ran2)"
   ]
  },
  {
   "cell_type": "code",
   "execution_count": 143,
   "id": "8da230ac-c947-4c05-8b23-83e1f00db0cd",
   "metadata": {},
   "outputs": [
    {
     "name": "stdout",
     "output_type": "stream",
     "text": [
      "[[1 3]\n",
      " [2 2]\n",
      " [1 4]\n",
      " [1 0]\n",
      " [0 4]\n",
      " [0 3]]\n"
     ]
    }
   ],
   "source": [
    "ran2=rd.randint(5,size=(6,2))\n",
    "print(ran2)"
   ]
  },
  {
   "cell_type": "code",
   "execution_count": 149,
   "id": "3804183c-32d9-428f-a7e0-d0c0a6a64c79",
   "metadata": {},
   "outputs": [
    {
     "name": "stdout",
     "output_type": "stream",
     "text": [
      "[[[2 4 2]\n",
      "  [4 0 4]]\n",
      "\n",
      " [[0 2 3]\n",
      "  [1 0 1]]\n",
      "\n",
      " [[4 1 2]\n",
      "  [3 1 3]]\n",
      "\n",
      " [[3 4 4]\n",
      "  [4 1 4]]\n",
      "\n",
      " [[3 0 3]\n",
      "  [1 4 2]]\n",
      "\n",
      " [[2 0 0]\n",
      "  [1 4 2]]]\n"
     ]
    }
   ],
   "source": [
    "ran2=rd.randint(5,size=(6,2,3))\n",
    "print(ran2)"
   ]
  },
  {
   "cell_type": "markdown",
   "id": "f7d2da2c-2272-432c-b94a-0f4147d68c52",
   "metadata": {},
   "source": [
    "Stack"
   ]
  },
  {
   "cell_type": "code",
   "execution_count": 154,
   "id": "ce4943c3-0c7e-4a5f-a455-019ef510b547",
   "metadata": {},
   "outputs": [],
   "source": [
    "Ar1=np.array([[9,4,23],[3,4,5]])\n",
    "Ar2=np.array([[8,1,2],[33,42,51]])\n",
    "Ar3=np.hstack(Ar1)"
   ]
  },
  {
   "cell_type": "code",
   "execution_count": 157,
   "id": "85739332-4ee0-4355-9f7f-54a9df7a89f0",
   "metadata": {},
   "outputs": [
    {
     "name": "stdout",
     "output_type": "stream",
     "text": [
      "[ 9  4 23  3  4  5]\n"
     ]
    }
   ],
   "source": [
    "print(Ar3)"
   ]
  },
  {
   "cell_type": "code",
   "execution_count": 159,
   "id": "1f43b122-7951-46fc-a008-041fef5a8633",
   "metadata": {},
   "outputs": [],
   "source": [
    "Ar1=np.array([[9,4,23],[3,4,5]])\n",
    "Ar2=np.array([[8,1,2],[33,42,51]])\n",
    "Ar3=np.vstack(Ar1)"
   ]
  },
  {
   "cell_type": "code",
   "execution_count": 161,
   "id": "4e562063-1d86-4d8c-b724-a9769da10e87",
   "metadata": {},
   "outputs": [
    {
     "name": "stdout",
     "output_type": "stream",
     "text": [
      "[[ 9  4 23]\n",
      " [ 3  4  5]]\n"
     ]
    }
   ],
   "source": [
    "print(Ar3)"
   ]
  },
  {
   "cell_type": "code",
   "execution_count": 163,
   "id": "d2efd1c2-a9ba-41c9-b8fe-8bebf2c1b643",
   "metadata": {},
   "outputs": [
    {
     "name": "stdout",
     "output_type": "stream",
     "text": [
      "[[ 9  4 23]\n",
      " [ 3  4  5]]\n",
      "\n",
      "\n",
      "[[ 8  1  2]\n",
      " [33 42 51]]\n"
     ]
    }
   ],
   "source": [
    "Ar1=np.array([[9,4,23],[3,4,5]])\n",
    "Ar2=np.array([[8,1,2],[33,42,51]])\n",
    "print(Ar1)\n",
    "print(\"\\n\")\n",
    "print(Ar2)"
   ]
  },
  {
   "cell_type": "code",
   "execution_count": 165,
   "id": "ecdb421c-dd05-4b30-9105-b867710fb962",
   "metadata": {},
   "outputs": [
    {
     "name": "stdout",
     "output_type": "stream",
     "text": [
      "[[ 9  4 23]\n",
      " [ 3  4  5]\n",
      " [ 8  1  2]\n",
      " [33 42 51]]\n"
     ]
    }
   ],
   "source": [
    "Ar4=np.vstack((Ar1,Ar2)) #one top of another\n",
    "print(Ar4)"
   ]
  },
  {
   "cell_type": "code",
   "execution_count": 167,
   "id": "dd500f03-55a6-4b30-9cfa-454175a302f2",
   "metadata": {},
   "outputs": [
    {
     "name": "stdout",
     "output_type": "stream",
     "text": [
      "[[ 9  4 23  8  1  2]\n",
      " [ 3  4  5 33 42 51]]\n"
     ]
    }
   ],
   "source": [
    "Ar5=np.hstack((Ar1,Ar2)) #side by side\n",
    "print(Ar5)"
   ]
  },
  {
   "cell_type": "code",
   "execution_count": 169,
   "id": "c009faf6-1edb-452b-b375-f724c17f6e49",
   "metadata": {},
   "outputs": [
    {
     "name": "stdout",
     "output_type": "stream",
     "text": [
      "[[[ 9  3]\n",
      "  [ 4  4]\n",
      "  [23  5]\n",
      "  [ 8 33]\n",
      "  [ 1 42]\n",
      "  [ 2 51]]]\n"
     ]
    }
   ],
   "source": [
    "Ar6=np.dstack((Ar5)) \n",
    "print(Ar6)"
   ]
  },
  {
   "cell_type": "code",
   "execution_count": 171,
   "id": "95820846-637d-40d7-aa59-bb699422008a",
   "metadata": {},
   "outputs": [
    {
     "name": "stdout",
     "output_type": "stream",
     "text": [
      "[[[ 1  2]\n",
      "  [ 3  4]]\n",
      "\n",
      " [[ 5  6]\n",
      "  [ 7  8]]\n",
      "\n",
      " [[ 9 10]\n",
      "  [11 12]]]\n"
     ]
    }
   ],
   "source": [
    "Ar7=np.arange(1,13).reshape(3,2,2)\n",
    "print(Ar7)"
   ]
  },
  {
   "cell_type": "code",
   "execution_count": 173,
   "id": "7301ad17-e41f-4767-b9af-aae2309312bc",
   "metadata": {},
   "outputs": [
    {
     "name": "stdout",
     "output_type": "stream",
     "text": [
      "[[[ 1  5  9]\n",
      "  [ 2  6 10]]\n",
      "\n",
      " [[ 3  7 11]\n",
      "  [ 4  8 12]]]\n"
     ]
    }
   ],
   "source": [
    "Ar6=np.dstack((Ar7)) \n",
    "print(Ar6)"
   ]
  },
  {
   "cell_type": "code",
   "execution_count": 177,
   "id": "2f79d865-7958-4eb6-9d53-7b11e80abf0d",
   "metadata": {},
   "outputs": [
    {
     "name": "stdout",
     "output_type": "stream",
     "text": [
      "9.0\n"
     ]
    }
   ],
   "source": [
    "num1=81\n",
    "print(np.sqrt(num1))\n"
   ]
  },
  {
   "cell_type": "code",
   "execution_count": 179,
   "id": "9d37d5f9-93e9-422e-afbc-c850898bbc22",
   "metadata": {},
   "outputs": [
    {
     "name": "stdout",
     "output_type": "stream",
     "text": [
      "9\n"
     ]
    }
   ],
   "source": [
    "num1=81\n",
    "num2=99\n",
    "print(np.gcd(num1,num2))\n"
   ]
  },
  {
   "cell_type": "code",
   "execution_count": 181,
   "id": "d96b5d58-9d83-43ac-b4f3-bc3edcd42b62",
   "metadata": {},
   "outputs": [
    {
     "name": "stdout",
     "output_type": "stream",
     "text": [
      "891\n"
     ]
    }
   ],
   "source": [
    "num1=81\n",
    "num2=99\n",
    "print(np.lcm(num1,num2))\n"
   ]
  },
  {
   "cell_type": "code",
   "execution_count": 183,
   "id": "6b020c1c-1eff-404b-be37-e0c3299ac3fe",
   "metadata": {},
   "outputs": [
    {
     "name": "stdout",
     "output_type": "stream",
     "text": [
      "268335\n"
     ]
    }
   ],
   "source": [
    "AA=[45,67,89]\n",
    "print(np.lcm.reduce(AA))"
   ]
  },
  {
   "cell_type": "code",
   "execution_count": 185,
   "id": "a17ed389-db6e-4d4c-810c-ccef5379a257",
   "metadata": {},
   "outputs": [
    {
     "name": "stdout",
     "output_type": "stream",
     "text": [
      "1\n"
     ]
    }
   ],
   "source": [
    "print(np.gcd.reduce(AA))"
   ]
  },
  {
   "cell_type": "code",
   "execution_count": 187,
   "id": "7f7930b2-cb82-4db8-9afc-30655b0be4ee",
   "metadata": {},
   "outputs": [
    {
     "name": "stdout",
     "output_type": "stream",
     "text": [
      "[ 0  5 23]\n"
     ]
    }
   ],
   "source": [
    "AB=np.array([0,-5,23])\n",
    "print(np.absolute(AB))"
   ]
  },
  {
   "cell_type": "markdown",
   "id": "6b491c81-da5c-462c-89e6-599ced00819a",
   "metadata": {},
   "source": [
    "LOGIRTHMS"
   ]
  },
  {
   "cell_type": "code",
   "execution_count": 190,
   "id": "f4307de8-37e0-461b-b6ae-96e948a45c9e",
   "metadata": {},
   "outputs": [
    {
     "name": "stdout",
     "output_type": "stream",
     "text": [
      "3.8066624897703196\n"
     ]
    }
   ],
   "source": [
    "n=45\n",
    "print(np.log(n))"
   ]
  },
  {
   "cell_type": "code",
   "execution_count": 192,
   "id": "c3f7b3d9-d527-47a8-9750-ff903b58c01e",
   "metadata": {},
   "outputs": [
    {
     "name": "stdout",
     "output_type": "stream",
     "text": [
      "1.6532125137753437\n"
     ]
    }
   ],
   "source": [
    "print(np.log10(n))"
   ]
  },
  {
   "cell_type": "code",
   "execution_count": 194,
   "id": "070f4d9f-6a39-4b11-add2-bcff011038f5",
   "metadata": {},
   "outputs": [
    {
     "name": "stdout",
     "output_type": "stream",
     "text": [
      "5.491853096329675\n"
     ]
    }
   ],
   "source": [
    "print(np.log2(n))"
   ]
  },
  {
   "cell_type": "markdown",
   "id": "69e9ffcf-1e1d-48e7-aa83-28c9d72e68a8",
   "metadata": {},
   "source": [
    "SET"
   ]
  },
  {
   "cell_type": "code",
   "execution_count": 197,
   "id": "f35f7fb9-4ef1-4f3c-ae86-cc6d58c898f1",
   "metadata": {},
   "outputs": [
    {
     "name": "stdout",
     "output_type": "stream",
     "text": [
      "[1 2 3 4 5 9]\n"
     ]
    }
   ],
   "source": [
    "s1=np.array([9,3,5,2,1])\n",
    "s2=np.array([4,5,2,1,3])\n",
    "print(np.union1d(s1,s2))"
   ]
  },
  {
   "cell_type": "code",
   "execution_count": 199,
   "id": "fda1e9d2-5aa6-4e4c-abd5-4cf51b129cb4",
   "metadata": {},
   "outputs": [
    {
     "name": "stdout",
     "output_type": "stream",
     "text": [
      "[1 2 3 5]\n"
     ]
    }
   ],
   "source": [
    "print(np.intersect1d(s1,s2))"
   ]
  },
  {
   "cell_type": "code",
   "execution_count": 201,
   "id": "a95171b3-2ec7-4ab0-8626-8448c31dfb04",
   "metadata": {},
   "outputs": [
    {
     "name": "stdout",
     "output_type": "stream",
     "text": [
      "[9]\n"
     ]
    }
   ],
   "source": [
    "print(np.setdiff1d(s1,s2))"
   ]
  },
  {
   "cell_type": "code",
   "execution_count": 203,
   "id": "356b4668-50a6-43da-a7ef-feb7db6b5222",
   "metadata": {},
   "outputs": [
    {
     "name": "stdout",
     "output_type": "stream",
     "text": [
      "(array([0, 2], dtype=int64),)\n"
     ]
    }
   ],
   "source": [
    "col1=np.array([44,33,12,67,19])\n",
    "index=np.where(col1%2 ==0)\n",
    "print(index)"
   ]
  },
  {
   "cell_type": "code",
   "execution_count": 209,
   "id": "afd6e133-9456-43cf-a951-b2037f71bf25",
   "metadata": {},
   "outputs": [
    {
     "name": "stdout",
     "output_type": "stream",
     "text": [
      "(array([0, 4, 5], dtype=int64),)\n"
     ]
    }
   ],
   "source": [
    "import numpy as np\n",
    "\n",
    "col2 = np.array([45, 33, 21, 50, 60, 15])\n",
    "index = np.where((col2 % 5 == 0) & (col2 % 3 == 0))  \n"
   ]
  },
  {
   "cell_type": "code",
   "execution_count": 211,
   "id": "bbdb4b85-1192-421c-b7c0-04e055b874d9",
   "metadata": {},
   "outputs": [
    {
     "name": "stdout",
     "output_type": "stream",
     "text": [
      "[[1 2 3]\n",
      " [4 5 6]\n",
      " [7 8 9]]\n"
     ]
    }
   ],
   "source": [
    "import numpy as np\n",
    "array_1d = np.arange(1, 10)  \n",
    "matrix_3x3 = array_1d.reshape(3, 3)\n",
    "\n",
    "print(matrix_3x3)0\n"
   ]
  },
  {
   "cell_type": "code",
   "execution_count": 213,
   "id": "a7d59ecd-b156-4524-982a-b62dd07717af",
   "metadata": {},
   "outputs": [
    {
     "name": "stdout",
     "output_type": "stream",
     "text": [
      "Mean: 30.0\n",
      "Median: 30.0\n",
      "Standard Deviation: 14.142135623730951\n"
     ]
    }
   ],
   "source": [
    "import numpy as np\n",
    "data = np.array([10, 20, 30, 40, 50])\n",
    "mean_value = np.mean(data)\n",
    "median_value = np.median(data)\n",
    "std_deviation = np.std(data)\n",
    "\n",
    "print(f\"Mean: {mean_value}\")\n",
    "print(f\"Median: {median_value}\")\n",
    "print(f\"Standard Deviation: {std_deviation}\")\n"
   ]
  },
  {
   "cell_type": "code",
   "execution_count": 215,
   "id": "d40f6cdd-0996-4476-8c3e-3de214aff02c",
   "metadata": {},
   "outputs": [
    {
     "name": "stdout",
     "output_type": "stream",
     "text": [
      "Element 10 occurs 1 times\n",
      "Element 20 occurs 2 times\n",
      "Element 30 occurs 3 times\n",
      "Element 40 occurs 1 times\n",
      "Element 50 occurs 4 times\n"
     ]
    }
   ],
   "source": [
    "import numpy as np\n",
    "array = np.array([10, 20, 20, 30, 30, 30, 40, 50, 50, 50, 50])\n",
    "unique_elements, counts = np.unique(array, return_counts=True)\n",
    "for element, count in zip(unique_elements, counts):\n",
    "    print(f\"Element {element} occurs {count} times\")\n"
   ]
  },
  {
   "cell_type": "code",
   "execution_count": 217,
   "id": "b1be953a-559a-453d-8432-c62f66489dcf",
   "metadata": {},
   "outputs": [
    {
     "name": "stdout",
     "output_type": "stream",
     "text": [
      "Vertical Stack:\n",
      "[[1 2 3]\n",
      " [4 5 6]]\n"
     ]
    }
   ],
   "source": [
    "import numpy as np\n",
    "array1 = np.array([1, 2, 3])\n",
    "array2 = np.array([4, 5, 6])\n",
    "vertical_stack = np.vstack((array1, array2))\n",
    "\n",
    "print(\"Vertical Stack:\")\n",
    "print(vertical_stack)\n"
   ]
  },
  {
   "cell_type": "code",
   "execution_count": 219,
   "id": "3cdfb664-cf4a-4d80-a5be-240a89f4c7ed",
   "metadata": {},
   "outputs": [
    {
     "name": "stdout",
     "output_type": "stream",
     "text": [
      "[10  0 30  0 50]\n"
     ]
    }
   ],
   "source": [
    "import numpy as np\n",
    "arr = np.array([10, 60, 30, 80, 50])\n",
    "arr[arr > 50] = 0\n",
    "\n",
    "print(arr)\n"
   ]
  },
  {
   "cell_type": "code",
   "execution_count": 221,
   "id": "b0042c50-fd09-4a5e-b52a-459ae3597cd1",
   "metadata": {},
   "outputs": [
    {
     "name": "stdout",
     "output_type": "stream",
     "text": [
      "[[19 22]\n",
      " [43 50]]\n"
     ]
    }
   ],
   "source": [
    "import numpy as np\n",
    "matrix1 = np.array([[1, 2], [3, 4]])\n",
    "matrix2 = np.array([[5, 6], [7, 8]])\n",
    "\n",
    "result = np.matmul(matrix1, matrix2)\n",
    "\n",
    "\n",
    "print(result)\n"
   ]
  },
  {
   "cell_type": "code",
   "execution_count": 223,
   "id": "e51f7589-9daf-4661-bf0f-021656b0c70b",
   "metadata": {},
   "outputs": [
    {
     "name": "stdout",
     "output_type": "stream",
     "text": [
      "Inverse Matrix:\n",
      "[[ 0.6 -0.7]\n",
      " [-0.2  0.4]]\n",
      "Determinant: 10.000000000000002\n"
     ]
    }
   ],
   "source": [
    "import numpy as np\n",
    "\n",
    "matrix = np.array([[4, 7], [2, 6]])\n",
    "\n",
    "determinant = np.linalg.det(matrix)\n",
    "\n",
    "if determinant != 0:\n",
    "    inverse_matrix = np.linalg.inv(matrix)\n",
    "    print(\"Inverse Matrix:\")\n",
    "    print(inverse_matrix)\n",
    "else:\n",
    "    print(\"The matrix is singular and does not have an inverse.\")\n",
    "\n",
    "print(f\"Determinant: {determinant}\")\n"
   ]
  },
  {
   "cell_type": "code",
   "execution_count": 225,
   "id": "2262f030-549b-42fe-928e-1fe99c5aef96",
   "metadata": {},
   "outputs": [
    {
     "name": "stdout",
     "output_type": "stream",
     "text": [
      "Extracted Elements: [6 7 8]\n"
     ]
    }
   ],
   "source": [
    "import numpy as np\n",
    "\n",
    "arr = np.array([1, 2, 3, 6, 7, 8, 4, 5])\n",
    "\n",
    "mask = arr > 5\n",
    "\n",
    "extracted_elements = arr[mask]\n",
    "\n",
    "print(\"Extracted Elements:\", extracted_elements)\n"
   ]
  },
  {
   "cell_type": "code",
   "execution_count": 227,
   "id": "6593b984-df2d-46bd-b3cb-e77cb5c8a2a8",
   "metadata": {},
   "outputs": [
    {
     "name": "stdout",
     "output_type": "stream",
     "text": [
      "[ 4 10 18]\n"
     ]
    }
   ],
   "source": [
    "import numpy as np\n",
    "\n",
    "array1 = np.array([1, 2, 3])\n",
    "array2 = np.array([4, 5, 6])\n",
    "\n",
    "result = array1 * array2\n",
    "\n",
    "print(result)\n"
   ]
  },
  {
   "cell_type": "code",
   "execution_count": null,
   "id": "62aa07de-6168-4825-98ac-b96e283f85b3",
   "metadata": {},
   "outputs": [],
   "source": []
  }
 ],
 "metadata": {
  "kernelspec": {
   "display_name": "Python [conda env:base] *",
   "language": "python",
   "name": "conda-base-py"
  },
  "language_info": {
   "codemirror_mode": {
    "name": "ipython",
    "version": 3
   },
   "file_extension": ".py",
   "mimetype": "text/x-python",
   "name": "python",
   "nbconvert_exporter": "python",
   "pygments_lexer": "ipython3",
   "version": "3.12.7"
  }
 },
 "nbformat": 4,
 "nbformat_minor": 5
}
